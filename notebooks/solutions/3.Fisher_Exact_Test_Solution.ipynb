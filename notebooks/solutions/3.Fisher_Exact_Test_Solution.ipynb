{
 "cells": [
  {
   "cell_type": "code",
   "execution_count": null,
   "id": "0",
   "metadata": {},
   "outputs": [],
   "source": [
    "#Gene Set Enrichment Analysis using Fisher Exact Test"
   ]
  },
  {
   "cell_type": "code",
   "execution_count": null,
   "id": "1",
   "metadata": {},
   "outputs": [],
   "source": [
    "import pandas as pd\n",
    "import numpy as np\n",
    "import matplotlib.pyplot as plt\n",
    "import scipy\n",
    "from scipy.stats import pearsonr\n",
    "from statsmodels.stats.multitest import multipletests\n",
    "import pickle\n",
    "import seaborn as sns\n",
    "from scipy.stats import fisher_exact\n",
    "import gseapy as gp"
   ]
  },
  {
   "cell_type": "code",
   "execution_count": null,
   "id": "2",
   "metadata": {},
   "outputs": [],
   "source": []
  },
  {
   "cell_type": "code",
   "execution_count": null,
   "id": "3",
   "metadata": {},
   "outputs": [],
   "source": [
    "#Read in the required data"
   ]
  },
  {
   "cell_type": "code",
   "execution_count": null,
   "id": "4",
   "metadata": {},
   "outputs": [],
   "source": [
    "datExpr = pd.read_csv('/data/recode/mic_datExpr_pseudobulk.csv', index_col = 0)"
   ]
  },
  {
   "cell_type": "code",
   "execution_count": null,
   "id": "5",
   "metadata": {},
   "outputs": [],
   "source": [
    "with open('/data/recode/separated_communities.pkl', 'rb') as file:\n",
    "        separated_communities = pickle.load(file)"
   ]
  },
  {
   "cell_type": "code",
   "execution_count": null,
   "id": "6",
   "metadata": {},
   "outputs": [],
   "source": [
    "# Convert each module in separated_communities to a set\n",
    "modules = {f'Module_{i+1}': set(community) for i, community in enumerate(separated_communities)}"
   ]
  },
  {
   "cell_type": "code",
   "execution_count": null,
   "id": "7",
   "metadata": {},
   "outputs": [],
   "source": [
    "modules"
   ]
  },
  {
   "cell_type": "code",
   "execution_count": null,
   "id": "8",
   "metadata": {},
   "outputs": [],
   "source": []
  },
  {
   "cell_type": "code",
   "execution_count": null,
   "id": "9",
   "metadata": {},
   "outputs": [],
   "source": [
    "# Step 1: Load the GMT file\n",
    "def read_gmt_file(file_path):\n",
    "    gene_sets = {}\n",
    "    with open(file_path, 'r') as file:\n",
    "        for line in file:\n",
    "            parts = line.strip().split('\\t')\n",
    "            gene_set_name = parts[0]\n",
    "            genes = parts[2:]\n",
    "            gene_sets[gene_set_name] = set(genes)\n",
    "    return gene_sets"
   ]
  },
  {
   "cell_type": "code",
   "execution_count": null,
   "id": "10",
   "metadata": {},
   "outputs": [],
   "source": [
    "gmt_file = 'h.all.v2023.2.Hs.symbols.gmt'\n",
    "gene_sets = read_gmt_file(gmt_file)"
   ]
  },
  {
   "cell_type": "code",
   "execution_count": null,
   "id": "11",
   "metadata": {},
   "outputs": [],
   "source": [
    "gene_sets"
   ]
  },
  {
   "cell_type": "code",
   "execution_count": null,
   "id": "12",
   "metadata": {},
   "outputs": [],
   "source": [
    "#Calculate Fisher's Exact Test for Enrichment\n",
    "\n",
    "# Container for results\n",
    "results = []\n",
    "\n",
    "# Iterate over each module\n",
    "for module_name, module_genes in modules.items():\n",
    "    module_genes_in_expr = module_genes.intersection(datExpr.columns)\n",
    "    \n",
    "    # Check if module_genes_in_expr is empty to avoid issues\n",
    "    if len(module_genes_in_expr) == 0:\n",
    "        continue\n",
    "\n",
    "    # Iterate over each gene set in the GMT file\n",
    "    for gene_set_name, gene_set_genes in gene_sets.items():\n",
    "        overlap_genes = module_genes_in_expr.intersection(gene_set_genes)\n",
    "        non_overlap_module_genes = module_genes_in_expr.difference(gene_set_genes)\n",
    "        non_overlap_gene_set_genes = gene_set_genes.difference(module_genes_in_expr)\n",
    "\n",
    "        # Calculate the contingency table\n",
    "        a = len(overlap_genes)\n",
    "        b = len(non_overlap_module_genes)\n",
    "        c = len(non_overlap_gene_set_genes)\n",
    "        d = len(set(datExpr.columns)) - (a + b + c)  # Adjust d to only consider genes in datExpr\n",
    "        \n",
    "        # Ensure all values in the contingency table are non-negative\n",
    "        if a < 0 or b < 0 or c < 0 or d < 0:\n",
    "            continue\n",
    "\n",
    "        # Perform Fisher's exact test\n",
    "        odds_ratio, p_value = fisher_exact([[a, b], [c, d]], alternative='two-sided')\n",
    "        \n",
    "        results.append({\n",
    "            'Module': module_name,\n",
    "            'Gene Set': gene_set_name,\n",
    "            'Overlap Count': a,\n",
    "            'Odds Ratio': odds_ratio,\n",
    "            'P-value': p_value\n",
    "        })\n"
   ]
  },
  {
   "cell_type": "code",
   "execution_count": null,
   "id": "13",
   "metadata": {},
   "outputs": [],
   "source": [
    "# Convert results to DataFrame for further analysis\n",
    "results_df = pd.DataFrame(results)\n",
    "\n",
    "# Adjust p-values for multiple testing\n",
    "results_df['Adjusted P-value'] = multipletests(results_df['P-value'], method='fdr_bh')[1]\n",
    "\n",
    "# Display results\n",
    "print(results_df)"
   ]
  },
  {
   "cell_type": "code",
   "execution_count": null,
   "id": "14",
   "metadata": {},
   "outputs": [],
   "source": [
    "#Let's focus on one module for the purpose of the enrichment analysis:\n",
    "# Filter for Module 1 and sort by overlap count\n",
    "module_1_results = results_df[results_df['Module'] == 'Module_1']\n",
    "top_10_enriched_gene_sets = module_1_results.sort_values(by='Overlap Count', ascending=False).head(10)\n",
    "\n",
    "print(top_10_enriched_gene_sets)"
   ]
  },
  {
   "cell_type": "code",
   "execution_count": null,
   "id": "15",
   "metadata": {},
   "outputs": [],
   "source": [
    "#Extract data for plotting (top 10 pathways with highest overlap count)\n",
    "top_10_enriched_gene_sets\n",
    "y_labels = top_10_enriched_gene_sets['Gene Set']\n",
    "x = top_10_enriched_gene_sets['Odds Ratio']\n",
    "sizes = top_10_enriched_gene_sets['Overlap Count'] * 20\n",
    "p_values = top_10_enriched_gene_sets['P-value']\n",
    "adjusted_p_values = top_10_enriched_gene_sets['Adjusted P-value']"
   ]
  },
  {
   "cell_type": "code",
   "execution_count": null,
   "id": "16",
   "metadata": {},
   "outputs": [],
   "source": [
    "# Plot the scatter plot for the top 10 pathways\n",
    "plt.figure(figsize=(12, 8))\n",
    "\n",
    "# Main scatter plot\n",
    "sc = plt.scatter(x, range(10), s=sizes, c=-adjusted_p_values, cmap='viridis', alpha=0.7)\n",
    "\n",
    "# Set labels and title\n",
    "plt.yticks(range(10), y_labels)  # Set y-axis labels to pathway names\n",
    "plt.xlabel('Odds Ratio')\n",
    "plt.ylabel('Pathway')\n",
    "plt.title('Top 10 Enriched Gene Sets')\n",
    "\n",
    "# Add a legend for dot sizes (overlap count) outside the plot\n",
    "handles, labels = sc.legend_elements(prop=\"sizes\", alpha=0.6)\n",
    "legend_labels = [f'Overlap Count: {int(float(label.split(\"{\")[1].split(\"}\")[0]) // 20)}' for label in labels]\n",
    "legend = plt.legend(handles, legend_labels, loc=\"center left\", bbox_to_anchor=(1.3, 0.5), title=\"Overlap\", frameon=False)\n",
    "\n",
    "# Add colorbar\n",
    "cbar = plt.colorbar(sc, shrink=0.2)  # Shrink colorbar size\n",
    "cbar.ax.xaxis.set_label_position('top')\n",
    "cbar.ax.set_title('Adj.pval', loc='left') \n",
    "\n",
    "# Adjust layout to prevent overlap between legends\n",
    "plt.subplots_adjust(right=0.75)  # Adjust the right margin to make space for the legends\n",
    "\n",
    "# Show the plot\n",
    "plt.grid(True)\n",
    "plt.tight_layout()  # Adjust layout to prevent clipping of labels\n",
    "plt.show()"
   ]
  },
  {
   "cell_type": "code",
   "execution_count": null,
   "id": "17",
   "metadata": {},
   "outputs": [],
   "source": []
  },
  {
   "cell_type": "code",
   "execution_count": null,
   "id": "18",
   "metadata": {},
   "outputs": [],
   "source": [
    "#KEGG pathway enrichment analysis using gseapy"
   ]
  },
  {
   "cell_type": "code",
   "execution_count": null,
   "id": "19",
   "metadata": {},
   "outputs": [],
   "source": [
    "kegg = gp.get_library(name='KEGG_2016', organism='Human')"
   ]
  },
  {
   "cell_type": "code",
   "execution_count": null,
   "id": "20",
   "metadata": {},
   "outputs": [],
   "source": [
    "kegg"
   ]
  },
  {
   "cell_type": "code",
   "execution_count": null,
   "id": "21",
   "metadata": {},
   "outputs": [],
   "source": [
    "gene_sets"
   ]
  },
  {
   "cell_type": "code",
   "execution_count": null,
   "id": "22",
   "metadata": {},
   "outputs": [],
   "source": [
    "# Initialize an empty dictionary to store pathway name: gene names pairs\n",
    "pathway_dict = {}\n",
    "\n",
    "# Iterate through the pathway_gene_dict and populate the pathway_dict\n",
    "for pathway_name, gene_list in kegg.items():\n",
    "    # Convert gene list to a set to remove duplicates\n",
    "    gene_set = set(gene_list)\n",
    "    # Assign gene set to pathway name in pathway_dict\n",
    "    pathway_dict[pathway_name] = gene_set\n",
    "\n",
    "# Display the resulting dictionary\n",
    "print(pathway_dict)"
   ]
  },
  {
   "cell_type": "code",
   "execution_count": null,
   "id": "23",
   "metadata": {},
   "outputs": [],
   "source": [
    "# Container for results\n",
    "results = []\n",
    "\n",
    "# Iterate over each module\n",
    "for module_name, module_genes in modules.items():\n",
    "    module_genes_in_expr = module_genes.intersection(datExpr.columns)\n",
    "    \n",
    "    # Check if module_genes_in_expr is empty to avoid issues\n",
    "    if len(module_genes_in_expr) == 0:\n",
    "        continue\n",
    "\n",
    "    # Iterate over each gene set in the GMT file\n",
    "    for gene_set_name, gene_set_genes in pathway_dict.items():\n",
    "        overlap_genes = module_genes_in_expr.intersection(gene_set_genes)\n",
    "        non_overlap_module_genes = module_genes_in_expr.difference(gene_set_genes)\n",
    "        non_overlap_gene_set_genes = gene_set_genes.difference(module_genes_in_expr)\n",
    "\n",
    "        # Calculate the contingency table\n",
    "        a = len(overlap_genes)\n",
    "        b = len(non_overlap_module_genes)\n",
    "        c = len(non_overlap_gene_set_genes)\n",
    "        d = len(set(datExpr.columns)) - (a + b + c)  # Adjust d to only consider genes in datExpr\n",
    "        \n",
    "        # Ensure all values in the contingency table are non-negative\n",
    "        if a < 0 or b < 0 or c < 0 or d < 0:\n",
    "            continue\n",
    "\n",
    "         # Perform Fisher's exact test only if all values are non-negative\n",
    "        contingency_table = [[a, b], [c, d]]\n",
    "        odds_ratio = None\n",
    "        if b * c != 0:\n",
    "            odds_ratio = (a * d) / (b * c)\n",
    "        \n",
    "        results.append({\n",
    "            'Module': module_name,\n",
    "            'Gene Set': gene_set_name,\n",
    "            'Overlap Count': a,\n",
    "            'Odds Ratio': odds_ratio,\n",
    "            'P-value': p_value\n",
    "        })"
   ]
  },
  {
   "cell_type": "code",
   "execution_count": null,
   "id": "24",
   "metadata": {},
   "outputs": [],
   "source": [
    "# Convert results to DataFrame for further analysis\n",
    "results_df = pd.DataFrame(results)\n",
    "\n",
    "# Adjust p-values for multiple testing\n",
    "results_df['Adjusted P-value'] = multipletests(results_df['P-value'], method='fdr_bh')[1]\n",
    "\n",
    "# Display results\n",
    "print(results_df)"
   ]
  },
  {
   "cell_type": "code",
   "execution_count": null,
   "id": "25",
   "metadata": {},
   "outputs": [],
   "source": [
    "# Filter for Module 1 and sort by overlap count\n",
    "module_1_results = results_df[results_df['Module'] == 'Module_1']\n",
    "top_10_enriched_gene_sets = module_1_results.sort_values(by='Overlap Count', ascending=False).head(10)\n",
    "\n",
    "print(top_10_enriched_gene_sets)"
   ]
  },
  {
   "cell_type": "code",
   "execution_count": null,
   "id": "26",
   "metadata": {},
   "outputs": [],
   "source": [
    "# Extract data for plotting (top 10 pathways with highest overlap count)\n",
    "top_10_enriched_gene_sets\n",
    "y_labels = top_10_enriched_gene_sets['Gene Set']\n",
    "x = top_10_enriched_gene_sets['Odds Ratio']\n",
    "sizes = top_10_enriched_gene_sets['Overlap Count'] * 20\n",
    "p_values = top_10_enriched_gene_sets['P-value']\n",
    "adjusted_p_values = top_10_enriched_gene_sets['Adjusted P-value']"
   ]
  },
  {
   "cell_type": "code",
   "execution_count": null,
   "id": "27",
   "metadata": {},
   "outputs": [],
   "source": [
    "# Plot the scatter plot for the top 10 pathways\n",
    "plt.figure(figsize=(12, 8))\n",
    "\n",
    "# Main scatter plot\n",
    "sc = plt.scatter(x, range(10), s=sizes, c=-adjusted_p_values, cmap='viridis', alpha=0.7)\n",
    "\n",
    "# Set labels and title\n",
    "plt.yticks(range(10), y_labels)  # Set y-axis labels to pathway names\n",
    "plt.xlabel('Odds Ratio')\n",
    "plt.ylabel('Pathway')\n",
    "plt.title('Top 10 Enriched Pathways')\n",
    "\n",
    "# Add a legend for dot sizes (overlap count) outside the plot\n",
    "handles, labels = sc.legend_elements(prop=\"sizes\", alpha=0.6)\n",
    "legend_labels = [f'Overlap Count: {int(float(label.split(\"{\")[1].split(\"}\")[0]) // 20)}' for label in labels]\n",
    "legend = plt.legend(handles, legend_labels, loc=\"center left\", bbox_to_anchor=(1.3, 0.5), title=\"Overlap\", frameon=False)\n",
    "\n",
    "# Add colorbar\n",
    "cbar = plt.colorbar(sc, shrink=0.2)  # Shrink colorbar size\n",
    "cbar.ax.xaxis.set_label_position('top')\n",
    "cbar.ax.set_title('Adj.pval', loc='left') \n",
    "\n",
    "# Adjust layout to prevent overlap between legends\n",
    "plt.subplots_adjust(right=0.75)  # Adjust the right margin to make space for the legends\n",
    "\n",
    "# Show the plot\n",
    "plt.grid(True)\n",
    "plt.tight_layout()  # Adjust layout to prevent clipping of labels\n",
    "plt.show()"
   ]
  },
  {
   "cell_type": "code",
   "execution_count": null,
   "id": "28",
   "metadata": {},
   "outputs": [],
   "source": []
  },
  {
   "cell_type": "code",
   "execution_count": null,
   "id": "29",
   "metadata": {},
   "outputs": [],
   "source": [
    "#Exercise Questions:\n",
    "#1.What is gene set enrichment analysis?\n",
    "#2.What is Fisher Exact Test?\n",
    "#3.How does GSEA differ from use of Fisher Exact Test?"
   ]
  },
  {
   "cell_type": "code",
   "execution_count": null,
   "id": "30",
   "metadata": {},
   "outputs": [],
   "source": [
    "#Answers\n",
    "#1.GSEA is a computational method used to determine whether predefined sets of genes (gene sets) exhibit statistically significant differences in their expression between two or more biological states or conditions.\n",
    "#2.The Fisher Exact Test is a statistical significance test used to determine whether there are nonrandom associations between two categorical variables in a contingency table. \n",
    "#3.GSEA focuses on analysing the collective behavior of genes within gene sets to uncover biologically relevant pathways or functional modules.\n",
    "#Whereas Fisher Exact Test assesses the significance of associations between individual genes or genomic features and phenotypic categories.\n",
    "#GSEA assesses the enrichment of gene sets by comparing the distribution of genes within each set to the overall distribution of genes ranked based on a statistical metric (e.g., differential expression score). It uses a running sum statistic or similar approach to calculate an enrichment score for each gene set and assesses statistical significance based on permutation testing or other methods.\n",
    "#Whereas Fisher Exact Test alculates the probability of obtaining the observed distribution of frequencies in a contingency table under the null hypothesis of independence between two categorical variables. It uses the hypergeometric distribution to compute the probability of obtaining as extreme or more extreme frequencies than the observed frequencies."
   ]
  },
  {
   "cell_type": "code",
   "execution_count": null,
   "id": "31",
   "metadata": {},
   "outputs": [],
   "source": []
  }
 ],
 "metadata": {
  "kernelspec": {
   "display_name": "Python 3 (ipykernel)",
   "language": "python",
   "name": "python3"
  },
  "language_info": {
   "codemirror_mode": {
    "name": "ipython",
    "version": 3
   },
   "file_extension": ".py",
   "mimetype": "text/x-python",
   "name": "python",
   "nbconvert_exporter": "python",
   "pygments_lexer": "ipython3",
   "version": "3.8.10"
  }
 },
 "nbformat": 4,
 "nbformat_minor": 5
}
