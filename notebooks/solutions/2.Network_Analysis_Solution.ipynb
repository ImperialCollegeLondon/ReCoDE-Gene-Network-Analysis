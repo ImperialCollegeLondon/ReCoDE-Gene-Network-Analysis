{
 "cells": [
  {
   "cell_type": "code",
   "execution_count": null,
   "id": "0",
   "metadata": {},
   "outputs": [],
   "source": [
    "#To identify which sub-networks i.e. communities, are of interest, we'll calculate the correlation between the networks and the\n",
    "#relevant clinical metadata variables"
   ]
  },
  {
   "cell_type": "code",
   "execution_count": null,
   "id": "1",
   "metadata": {},
   "outputs": [],
   "source": [
    "import pandas as pd\n",
    "import numpy as np\n",
    "import matplotlib.pyplot as plt\n",
    "import scipy\n",
    "from sklearn.decomposition import PCA\n",
    "from scipy.stats import pearsonr\n",
    "from statsmodels.stats.multitest import multipletests\n",
    "import pickle\n",
    "import seaborn as sns"
   ]
  },
  {
   "cell_type": "code",
   "execution_count": null,
   "id": "2",
   "metadata": {},
   "outputs": [],
   "source": [
    "#Read in required data"
   ]
  },
  {
   "cell_type": "code",
   "execution_count": null,
   "id": "3",
   "metadata": {},
   "outputs": [],
   "source": [
    "#Load in the required data\n",
    "datExpr = pd.read_csv('/data/recode/mic_datExpr_pseudobulk.csv', index_col = 0)\n",
    "metadata = pd.read_csv('/da/recode/mic_metadata_pseudobulk.csv', index_col = 0)"
   ]
  },
  {
   "cell_type": "code",
   "execution_count": null,
   "id": "4",
   "metadata": {},
   "outputs": [],
   "source": [
    "datExpr"
   ]
  },
  {
   "cell_type": "code",
   "execution_count": null,
   "id": "5",
   "metadata": {},
   "outputs": [],
   "source": [
    "metadata"
   ]
  },
  {
   "cell_type": "code",
   "execution_count": null,
   "id": "6",
   "metadata": {},
   "outputs": [],
   "source": []
  },
  {
   "cell_type": "code",
   "execution_count": null,
   "id": "7",
   "metadata": {},
   "outputs": [],
   "source": [
    "gene_names = datExpr.columns\n",
    "gene_names"
   ]
  },
  {
   "cell_type": "code",
   "execution_count": null,
   "id": "8",
   "metadata": {},
   "outputs": [],
   "source": [
    "with open('/shared/as8020/recode/separated_communities.pkl', 'rb') as file:\n",
    "        separated_communities = pickle.load(file)"
   ]
  },
  {
   "cell_type": "code",
   "execution_count": null,
   "id": "9",
   "metadata": {},
   "outputs": [],
   "source": [
    "print(separated_communities)"
   ]
  },
  {
   "cell_type": "code",
   "execution_count": null,
   "id": "10",
   "metadata": {},
   "outputs": [],
   "source": [
    "#Module eigengene calculation\n",
    "#Module eigengene calculation is a concept used in the analysis of gene expression data.\n",
    "\n",
    "#Module/sub-network: A module refers to a group of genes that exhibit similar expression patterns across samples. Modules are often identified using clustering algorithms applied to gene expression data.\n",
    "#Eigengene: An eigengene represents the overall expression profile of a module. It is calculated as the first principal component of the gene expression profiles within the module. Essentially, the eigengene captures the main axis of variation or the common expression pattern shared by the genes within the module.\n",
    "\n",
    "#We will be using module eigengenes as representations for further downstream analysis."
   ]
  },
  {
   "cell_type": "code",
   "execution_count": null,
   "id": "11",
   "metadata": {},
   "outputs": [],
   "source": [
    "# Initialise a DataFrame to store module eigengenes\n",
    "module_eigengenes = pd.DataFrame(index=datExpr.index)\n",
    "\n",
    "# Calculate the module eigengene for each community\n",
    "for i, community in enumerate(separated_communities):\n",
    "    community_genes = [gene for gene in community if gene in gene_names]\n",
    "    if community_genes:\n",
    "        community_expr = datExpr[community_genes]\n",
    "        pca = PCA(n_components=1)\n",
    "        eigengene = pca.fit_transform(community_expr)\n",
    "        module_eigengenes[f'Module_{i+1}'] = eigengene[:, 0]"
   ]
  },
  {
   "cell_type": "code",
   "execution_count": null,
   "id": "12",
   "metadata": {},
   "outputs": [],
   "source": []
  },
  {
   "cell_type": "code",
   "execution_count": null,
   "id": "13",
   "metadata": {},
   "outputs": [],
   "source": [
    "metadata"
   ]
  },
  {
   "cell_type": "code",
   "execution_count": null,
   "id": "14",
   "metadata": {},
   "outputs": [],
   "source": [
    "metadata2 = metadata.drop(columns=['donor_id.1','nUMI', 'nGene','seurat.subclusters'])"
   ]
  },
  {
   "cell_type": "code",
   "execution_count": null,
   "id": "15",
   "metadata": {},
   "outputs": [],
   "source": [
    "# Merge module eigengenes with metadata\n",
    "merged_data = pd.concat([metadata2, module_eigengenes], axis=1)"
   ]
  },
  {
   "cell_type": "code",
   "execution_count": null,
   "id": "16",
   "metadata": {},
   "outputs": [],
   "source": [
    "merged_data"
   ]
  },
  {
   "cell_type": "code",
   "execution_count": null,
   "id": "17",
   "metadata": {},
   "outputs": [],
   "source": [
    "# Calculate Pearson correlation between module eigengenes and metadata\n",
    "correlation_matrix2 = merged_data.corr(method='pearson')"
   ]
  },
  {
   "cell_type": "code",
   "execution_count": null,
   "id": "18",
   "metadata": {},
   "outputs": [],
   "source": [
    "correlation_matrix2"
   ]
  },
  {
   "cell_type": "code",
   "execution_count": null,
   "id": "19",
   "metadata": {},
   "outputs": [],
   "source": [
    "#The correlation matrix needs to be reformatted into the correct format:\n",
    "correlation_matrix3 = correlation_matrix2.drop(['BraakStage', 'development_stage', 'AD', 'Normal'])"
   ]
  },
  {
   "cell_type": "code",
   "execution_count": null,
   "id": "20",
   "metadata": {},
   "outputs": [],
   "source": [
    "correlation_matrix3"
   ]
  },
  {
   "cell_type": "code",
   "execution_count": null,
   "id": "21",
   "metadata": {},
   "outputs": [],
   "source": [
    "correlation_matrix3 = correlation_matrix3.drop(correlation_matrix3.columns[4:], axis=1)"
   ]
  },
  {
   "cell_type": "code",
   "execution_count": null,
   "id": "22",
   "metadata": {},
   "outputs": [],
   "source": [
    "correlation_matrix3"
   ]
  },
  {
   "cell_type": "code",
   "execution_count": null,
   "id": "23",
   "metadata": {},
   "outputs": [],
   "source": [
    "#We now need to calculate the p-values for the correlations on the merged data.\n",
    "# Initialize an empty DataFrame to store p-values\n",
    "module_p_values = pd.DataFrame(index=module_eigengenes.columns, columns=metadata2.columns)\n",
    "\n",
    "# Calculate p-values for correlations between module eigengenes and metadata\n",
    "for module in module_eigengenes.columns:\n",
    "    for metadata_column in metadata2.columns:\n",
    "        # Calculate correlation coefficient and p-value\n",
    "        correlation_coefficient, p_value = pearsonr(module_eigengenes[module], metadata2[metadata_column])\n",
    "        # Store p-value in the DataFrame\n",
    "        module_p_values.loc[module, metadata_column] = p_value\n",
    "\n",
    "print(module_p_values)"
   ]
  },
  {
   "cell_type": "code",
   "execution_count": null,
   "id": "24",
   "metadata": {},
   "outputs": [],
   "source": [
    "#We now need to calculate the adjusted p-values.\n",
    "# Calculate adjusted p-values using FDR correction\n",
    "adjusted_p_values = pd.DataFrame(index=module_p_values.index, columns=module_p_values.columns)\n",
    "for column in module_p_values.columns:\n",
    "    p_values = module_p_values[column].astype(float)\n",
    "    # Perform FDR correction\n",
    "    _, adj_p_values, _, _ = multipletests(p_values, method='fdr_bh')\n",
    "    adjusted_p_values[column] = adj_p_values\n",
    "\n",
    "print(adjusted_p_values)"
   ]
  },
  {
   "cell_type": "code",
   "execution_count": null,
   "id": "25",
   "metadata": {},
   "outputs": [],
   "source": [
    "#We want a method to highlight interesting modules.\n",
    "#For this purpose we will be creating a heatmap of the correlations and associated adjusted p-values between the modules and the metadata.\n",
    "# Function to annotate heatmap with correlation values and p-values\n",
    "def annotate_heatmap_with_p_values(ax, correlation_matrix, p_values, threshold=0.05):\n",
    "    stars = np.empty(p_values.shape, dtype='<U2')\n",
    "    stars[p_values > threshold] = ''\n",
    "    stars[p_values <= threshold] = '*'\n",
    "    for i in range(correlation_matrix.shape[0]):\n",
    "        for j in range(correlation_matrix.shape[1]):\n",
    "            # Format annotation string with correlation value\n",
    "            annotation_corr = f\"{correlation_matrix.iloc[i, j]:.2f}\"\n",
    "            # Format p-value in brackets\n",
    "            annotation_p_value = f\"({p_values.iloc[i, j]:.2f})\"\n",
    "            # Add star for significant p-values\n",
    "            if p_values.iloc[i, j] <= threshold:\n",
    "                annotation_p_value += '*'\n",
    "            # Add annotations\n",
    "            ax.text(j+0.5, i+0.4, annotation_corr, ha='center', va='center', color='black')\n",
    "            ax.text(j+0.5, i+0.6, annotation_p_value, ha='center', va='center', color='black')\n"
   ]
  },
  {
   "cell_type": "code",
   "execution_count": null,
   "id": "26",
   "metadata": {},
   "outputs": [],
   "source": [
    "# Visualise the correlation matrix as a heatmap with correlation values and p-values\n",
    "plt.figure(figsize=(10, 8))\n",
    "heatmap = sns.heatmap(correlation_matrix3, annot=False, cmap='coolwarm', vmin=-1, vmax=1)\n",
    "plt.title('Correlation between Module Eigengenes and Metadata')\n",
    "\n",
    "# Annotate heatmap with correlation values and p-values\n",
    "annotate_heatmap_with_p_values(heatmap, correlation_matrix3, adjusted_p_values)\n",
    "\n",
    "plt.show()"
   ]
  },
  {
   "cell_type": "code",
   "execution_count": null,
   "id": "27",
   "metadata": {},
   "outputs": [],
   "source": []
  },
  {
   "cell_type": "code",
   "execution_count": null,
   "id": "28",
   "metadata": {},
   "outputs": [],
   "source": [
    "#Exercise Questions\n",
    "#1. What is a correlation and why is it used in gene co-expression analysis?\n",
    "#2. Why are adjusted p-values used instead of p-values?\n",
    "#3. What is fdr_bh and explain it fully?\n",
    "#4. Based on the heatmap, what can you summarise?"
   ]
  },
  {
   "cell_type": "code",
   "execution_count": null,
   "id": "29",
   "metadata": {},
   "outputs": [],
   "source": [
    "#Answers\n",
    "#1.In the context of gene co-expression analysis, correlation refers to the statistical measure of the strength and direction of association between the expression levels of two genes across a set of samples or conditions. It quantifies the degree to which the expression patterns of two genes are similar or dissimilar across different biological contexts.\n",
    "#2.Adjusted p-values are used instead of raw p-values in statistical hypothesis testing to correct for multiple comparisons. When conducting multiple statistical tests simultaneously (such as testing multiple genes in gene expression analysis or multiple variables in genomics studies), the probability of obtaining false positive results increases. This increased probability arises due to the cumulative effect of conducting multiple tests, leading to an inflated Type I error rate (false positives).\n",
    "#3.FDR_BH stands for False Discovery Rate (FDR) control using the Benjamini-Hochberg (BH) procedure. It is a statistical method used to control the proportion of false positives among all significant results when conducting multiple hypothesis tests simultaneously.\n",
    "#4.Modules 1, 2, 3, 5 and 6 appear to have the strongest, significant correlations with Braak stage, as well as relatively strong correlations with development stage and AD clinical metadata variables, highlighting them as being of interest in context of disease.\n",
    "#WhereasModules 7, 8 and 9 seem to be slightly associated with Normal category."
   ]
  },
  {
   "cell_type": "code",
   "execution_count": null,
   "id": "30",
   "metadata": {},
   "outputs": [],
   "source": []
  }
 ],
 "metadata": {
  "kernelspec": {
   "display_name": "Python 3 (ipykernel)",
   "language": "python",
   "name": "python3"
  },
  "language_info": {
   "codemirror_mode": {
    "name": "ipython",
    "version": 3
   },
   "file_extension": ".py",
   "mimetype": "text/x-python",
   "name": "python",
   "nbconvert_exporter": "python",
   "pygments_lexer": "ipython3",
   "version": "3.8.10"
  }
 },
 "nbformat": 4,
 "nbformat_minor": 5
}
