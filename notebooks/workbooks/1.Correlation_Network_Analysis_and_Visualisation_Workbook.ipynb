{
 "cells": [
  {
   "cell_type": "code",
   "execution_count": null,
   "id": "232650ec",
   "metadata": {},
   "outputs": [],
   "source": [
    "#Correlation Network Analysis"
   ]
  },
  {
   "cell_type": "code",
   "execution_count": null,
   "id": "f3ffcac1",
   "metadata": {},
   "outputs": [],
   "source": [
    "#Gene network analysis is a method designed to identify sub-networks (modules) of correlated genes, which are likely to be co-expressed.\n",
    "#This can be helpful in identification of sub-networks (modules) of genes that contribute to disease.\n",
    "#In this example, we will cover how to create a pairwise correlation matrix of genes, as well as how to associate them with disease."
   ]
  },
  {
   "cell_type": "code",
   "execution_count": null,
   "id": "2d5317d7",
   "metadata": {},
   "outputs": [],
   "source": [
    "import pandas as pd\n",
    "import numpy as np\n",
    "import scanpy as sc\n",
    "import anndata\n",
    "import networkx as nx\n",
    "import scipy.cluster.hierarchy as sch\n",
    "import matplotlib.pyplot as plt\n",
    "import json\n",
    "import scipy\n",
    "from sklearn.decomposition import PCA\n",
    "from scipy.stats import pearsonr\n",
    "from scipy.spatial.distance import pdist, squareform\n",
    "from statsmodels.stats.multitest import multipletests"
   ]
  },
  {
   "cell_type": "code",
   "execution_count": null,
   "id": "e403454b",
   "metadata": {},
   "outputs": [],
   "source": [
    "#Load in the required data\n",
    "datExpr = pd.read_csv('/data/mic_datExpr_pseudobulk.csv', index_col = 0)\n",
    "metadata = pd.read_csv('/data/recode/mic_metadata_pseudobulk.csv', index_col = 0)"
   ]
  },
  {
   "cell_type": "code",
   "execution_count": null,
   "id": "8cd260bb",
   "metadata": {},
   "outputs": [],
   "source": [
    "datExpr"
   ]
  },
  {
   "cell_type": "code",
   "execution_count": null,
   "id": "48b282bb",
   "metadata": {},
   "outputs": [],
   "source": [
    "metadata"
   ]
  },
  {
   "cell_type": "code",
   "execution_count": null,
   "id": "37e51db9",
   "metadata": {},
   "outputs": [],
   "source": [
    "#Correlation is a statistical measure that describes the extent to which two variables change together. It indicates the strength and direction of a linear relationship between two variables.\n",
    "#Correlation analysis for coexpression networks is a method used to study the relationships between genes or proteins by analysing their expression levels across various conditions, tissues, or time points.\n",
    "#We will be exploring correlation based co-expression networks within this exercise."
   ]
  },
  {
   "cell_type": "code",
   "execution_count": null,
   "id": "3f75e6c7",
   "metadata": {},
   "outputs": [],
   "source": [
    "#Step 1: \n",
    "#You can use the corr function to calculate pairwise pearson correlations between the genes.\n",
    "correlation_matrix = datExpr.corr()"
   ]
  },
  {
   "cell_type": "code",
   "execution_count": null,
   "id": "51d46514",
   "metadata": {},
   "outputs": [],
   "source": [
    "#Lets view the correlation matrix. You will see that there is a diagonal of the value 1, due to the calculating the correlation between the same gene.\n",
    "correlation_matrix"
   ]
  },
  {
   "cell_type": "code",
   "execution_count": null,
   "id": "db70414f",
   "metadata": {},
   "outputs": [],
   "source": [
    "#Step 2:\n",
    "#Now that we have the correlation matrix, we need to calculate the distance matrix.\n",
    "#A distance matrix is a mathematical representation that captures the pairwise distances between a set of objects. \n",
    "#In hierarchical clustering, distance matrices are used to determine which objects to merge or split based on their pairwise distances.\n",
    "#So, we will be using the distance matrix in order to calculate clusters between genes, which will form our networks. These are commonly also called communities.\n",
    "\n",
    "# Perform hierarchical clustering using the dissimilarity values\n",
    "distance_matrix = 1 - correlation_matrix  # Convert correlation to distance measure\n",
    "\n",
    "#The linkage function is used to perform hierarchical clustering on the distance matrix. \n",
    "linkage_matrix = sch.linkage(distance_matrix, method='average')\n",
    "\n",
    "# Plot the dendrogram\n",
    "plt.figure(figsize=(10, 6))\n",
    "dendrogram = sch.dendrogram(linkage_matrix)\n",
    "\n",
    "#Plot the title, y axis and x axis lables also\n",
    "\n",
    "plt.show()"
   ]
  },
  {
   "cell_type": "code",
   "execution_count": null,
   "id": "c26c91d7",
   "metadata": {},
   "outputs": [],
   "source": [
    "#Step 3:\n",
    "#Due to all of the vast correlations, the networks will be very messy each having lots of edges with varying correlation strengths.\n",
    "#Not all of these are of interest, such as weak correlations. So we would solely like to focus on the strong correlations.\n",
    "\n",
    "# Define threshold for significant edges (you can adjust this based on your requirement)\n",
    "threshold = \n",
    "\n",
    "# Threshold the correlation matrix to determine significant edges\n",
    "significant_edges = correlation_matrix > threshold"
   ]
  },
  {
   "cell_type": "code",
   "execution_count": null,
   "id": "87f52800",
   "metadata": {},
   "outputs": [],
   "source": [
    "#Lets have a look at the significant_edges dataframe.\n",
    "#You can now see that this produces a boolean dataframe which states whether the values are greater than the threshold or not.\n",
    "significant_edges"
   ]
  },
  {
   "cell_type": "code",
   "execution_count": null,
   "id": "db92f8fb",
   "metadata": {},
   "outputs": [],
   "source": [
    "#Step 4:\n",
    "#networkx is a python library designed for network analysis.\n",
    "# Construct the network from significant edges.\n",
    "G = nx.Graph()\n",
    "\n",
    "# Loop through significant edges and add edges to the graph\n",
    "for i in range(significant_edges.shape[0]):\n",
    "    for j in range(significant_edges.shape[1]):\n",
    "        if significant_edges.values[i, j]:\n",
    "            gene1 = significant_edges.index[i]\n",
    "            gene2 = significant_edges.columns[j]\n",
    "            \n",
    "            # Find the position of gene1 and gene2 in the correlation matrix\n",
    "            i_corr = np.where(correlation_matrix.index == gene1)[0][0]\n",
    "            j_corr = np.where(correlation_matrix.columns == gene2)[0][0]\n",
    "            \n",
    "            # Add the edge to the graph\n",
    "            G.add_edge(gene1, gene2, weight=correlation_matrix.iloc[i_corr, j_corr])\n",
    "\n",
    "# Display the number of nodes and edges in the graph\n",
    "print(\"Number of nodes:\", G.number_of_nodes())\n",
    "print(\"Number of edges:\", G.number_of_edges())"
   ]
  },
  {
   "cell_type": "code",
   "execution_count": null,
   "id": "bea6f67e",
   "metadata": {},
   "outputs": [],
   "source": [
    "#Step 5:\n",
    "# Analyse the network\n",
    "# For example, you can identify clusters/modules using community detection algorithms\n",
    "communities = nx.algorithms.community.greedy_modularity_communities(G)"
   ]
  },
  {
   "cell_type": "code",
   "execution_count": null,
   "id": "eb316a19",
   "metadata": {},
   "outputs": [],
   "source": [
    "communities"
   ]
  },
  {
   "cell_type": "code",
   "execution_count": null,
   "id": "36de7d0d",
   "metadata": {},
   "outputs": [],
   "source": [
    "# Initialise a new graph for community visualisation\n",
    "community_graph = nx.Graph()"
   ]
  },
  {
   "cell_type": "code",
   "execution_count": null,
   "id": "2c03e416",
   "metadata": {},
   "outputs": [],
   "source": [
    "# Add edges between communities based on their connectivity\n",
    "for i, community in enumerate(communities):\n",
    "    for node in community:\n",
    "        community_graph.add_node(node)\n",
    "        for neighbor in G.neighbors(node):\n",
    "            if neighbor in community:\n",
    "                community_graph.add_edge(node, neighbor, weight=G[node][neighbor]['weight'])\n"
   ]
  },
  {
   "cell_type": "code",
   "execution_count": null,
   "id": "0817cca5",
   "metadata": {},
   "outputs": [],
   "source": [
    "# Initialise an empty list to store separated communities\n",
    "separated_communities = []\n",
    "\n",
    "# Iterate over the detected communities\n",
    "for community in communities:\n",
    "    # Convert the set of nodes into a list and append it to the list of lists\n",
    "    separated_communities.append(list(community))"
   ]
  },
  {
   "cell_type": "code",
   "execution_count": null,
   "id": "a8998091",
   "metadata": {},
   "outputs": [],
   "source": [
    "# Print or use the separated communities as needed\n",
    "print(separated_communities)"
   ]
  },
  {
   "cell_type": "code",
   "execution_count": null,
   "id": "fee30c34",
   "metadata": {},
   "outputs": [],
   "source": [
    "#Check how many communities there are? How could you do this? (Hint: len function)"
   ]
  },
  {
   "cell_type": "code",
   "execution_count": null,
   "id": "7c23a83c",
   "metadata": {},
   "outputs": [],
   "source": [
    "#Step 6:\n",
    "# Choose the index of the community you want to visualise\n",
    "community_index =   # Change this to the index of the community you want to visualize\n",
    "\n",
    "# Get the nodes in the selected community\n",
    "selected_community = list(communities[community_index])\n",
    "\n",
    "# Create a subgraph containing only the nodes and edges within the selected community\n",
    "subgraph = G.subgraph(selected_community)"
   ]
  },
  {
   "cell_type": "code",
   "execution_count": null,
   "id": "f0f9138c",
   "metadata": {},
   "outputs": [],
   "source": [
    "# Check how many genes are within the chosen network. (Hint: check the number of nodes)\n",
    "num_nodes = \n",
    "print(f\"The number of nodes in the subgraph is: {num_nodes}\")"
   ]
  },
  {
   "cell_type": "code",
   "execution_count": null,
   "id": "dd02d3d3",
   "metadata": {},
   "outputs": [],
   "source": [
    "#Step 7:\n",
    "# Visualise the subgraph\n",
    "pos = nx.spring_layout(subgraph, k=0.8, iterations=20)  # You can use different layout algorithms\n",
    "plt.figure(figsize=(14, 12))\n",
    "nx.draw(subgraph, pos, with_labels=True, node_color='skyblue', node_size=100, edge_color='gray', linewidths=0.1, font_size=8)\n",
    "plt.title('Community Visualisation')\n",
    "plt.show()"
   ]
  },
  {
   "cell_type": "code",
   "execution_count": null,
   "id": "e0ea3f5b",
   "metadata": {},
   "outputs": [],
   "source": [
    "#Play around with different layouts and see how the visualisation is affected.\n",
    "#For example, there is circular_layout. Check out https://networkx.org/documentation/stable/tutorial.html#drawing-graphs for more information."
   ]
  },
  {
   "cell_type": "code",
   "execution_count": null,
   "id": "9c70df6c",
   "metadata": {},
   "outputs": [],
   "source": []
  },
  {
   "cell_type": "code",
   "execution_count": null,
   "id": "1ab49148",
   "metadata": {},
   "outputs": [],
   "source": [
    "#Exercise Questions\n",
    "#1. What other correlation measures could be used?\n",
    "#2. What other distance measures could be used?\n",
    "#3. Are there other community-based algorithms that could be used instead?\n",
    "#4. Show a worked through example testing different correlation measures, distance measures and community algorithms\n",
    "#and see how this affects the networks produced."
   ]
  },
  {
   "cell_type": "code",
   "execution_count": null,
   "id": "b2fc1311",
   "metadata": {},
   "outputs": [],
   "source": [
    "#Answers:\n",
    "#1.\n",
    "#2.\n",
    "#3.\n",
    "#4."
   ]
  }
 ],
 "metadata": {
  "kernelspec": {
   "display_name": "Python 3 (ipykernel)",
   "language": "python",
   "name": "python3"
  },
  "language_info": {
   "codemirror_mode": {
    "name": "ipython",
    "version": 3
   },
   "file_extension": ".py",
   "mimetype": "text/x-python",
   "name": "python",
   "nbconvert_exporter": "python",
   "pygments_lexer": "ipython3",
   "version": "3.8.10"
  }
 },
 "nbformat": 4,
 "nbformat_minor": 5
}
