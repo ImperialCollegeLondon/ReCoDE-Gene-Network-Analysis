{
 "cells": [
  {
   "cell_type": "markdown",
   "id": "69d32542",
   "metadata": {},
   "source": [
    "# Network Analysis"
   ]
  },
  {
   "cell_type": "code",
   "execution_count": null,
   "id": "a2cd98cc",
   "metadata": {},
   "outputs": [],
   "source": [
    "To identify which sub-networks i.e. communities, are of interest, we'll calculate the correlation between the networks and the\n",
    "relevant clinical metadata variables"
   ]
  },
  {
   "cell_type": "code",
   "execution_count": 1,
   "id": "f6ffd19e",
   "metadata": {},
   "outputs": [],
   "source": [
    "import pandas as pd\n",
    "import numpy as np\n",
    "import matplotlib.pyplot as plt\n",
    "import scipy\n",
    "from sklearn.decomposition import PCA\n",
    "from scipy.stats import pearsonr\n",
    "from statsmodels.stats.multitest import multipletests\n",
    "import pickle\n",
    "import seaborn as sns"
   ]
  },
  {
   "cell_type": "markdown",
   "id": "e09afaad",
   "metadata": {},
   "source": [
    "Read in required data"
   ]
  },
  {
   "cell_type": "code",
   "execution_count": null,
   "id": "8f81bb3a",
   "metadata": {},
   "outputs": [],
   "source": [
    "#Load in the required data\n",
    "datExpr = pd.read_csv('/data/recode/mic_datExpr_pseudobulk.csv', index_col = 0)\n",
    "metadata = pd.read_csv('/data/recode/mic_metadata_pseudobulk.csv', index_col = 0)"
   ]
  },
  {
   "cell_type": "code",
   "execution_count": null,
   "id": "72d99831",
   "metadata": {},
   "outputs": [],
   "source": [
    "datExpr"
   ]
  },
  {
   "cell_type": "code",
   "execution_count": null,
   "id": "1305f2bf",
   "metadata": {},
   "outputs": [],
   "source": [
    "metadata"
   ]
  },
  {
   "cell_type": "code",
   "execution_count": null,
   "id": "08a99a4c",
   "metadata": {},
   "outputs": [],
   "source": []
  },
  {
   "cell_type": "code",
   "execution_count": null,
   "id": "4452ca32",
   "metadata": {},
   "outputs": [],
   "source": [
    "gene_names = datExpr.columns\n",
    "gene_names"
   ]
  },
  {
   "cell_type": "code",
   "execution_count": null,
   "id": "22bbe83c",
   "metadata": {},
   "outputs": [],
   "source": [
    "with open('/data/recode/separated_communities.pkl', 'rb') as file:\n",
    "        separated_communities = pickle.load(file)"
   ]
  },
  {
   "cell_type": "code",
   "execution_count": null,
   "id": "dc08f002",
   "metadata": {},
   "outputs": [],
   "source": [
    "print(separated_communities)"
   ]
  },
  {
   "cell_type": "markdown",
   "id": "1cd42b53",
   "metadata": {},
   "source": [
    "# Step 1: Module Eigengene Calculation"
   ]
  },
  {
   "cell_type": "markdown",
   "id": "0e9581f0",
   "metadata": {},
   "source": [
    "Module eigengene calculation is a concept used in the analysis of gene expression data.\n",
    "\n",
    "Module/sub-network: A module refers to a group of genes that exhibit similar expression patterns across samples. Modules are often identified using clustering algorithms applied to gene expression data.\n",
    "\n",
    "Eigengene: An eigengene represents the overall expression profile of a module. It is calculated as the first principal component of the gene expression profiles within the module. Essentially, the eigengene captures the main axis of variation or the common expression pattern shared by the genes within the module.\n",
    "\n",
    "We will be using module eigengenes as representations for further downstream analysis."
   ]
  },
  {
   "cell_type": "code",
   "execution_count": null,
   "id": "6e69b959",
   "metadata": {},
   "outputs": [],
   "source": [
    "# Initialise a DataFrame to store module eigengenes with the rownames i.e. the gene names from the expression matrix as the rownames in the new dataframe\n",
    "module_eigengenes = \n",
    "\n",
    "# Calculate the module eigengene for each community\n",
    "for i, community in enumerate(separated_communities):\n",
    "    community_genes = [gene for gene in community if gene in gene_names]\n",
    "    if community_genes:\n",
    "        community_expr = datExpr[community_genes]\n",
    "        pca = PCA(n_components=1)\n",
    "        eigengene = pca.fit_transform(community_expr)\n",
    "        module_eigengenes[f'Module_{i+1}'] = eigengene[:, 0]"
   ]
  },
  {
   "cell_type": "markdown",
   "id": "22e7f8fa",
   "metadata": {},
   "source": [
    "Based on the metadata, which columns seem important/interesting and which do you think should be dropped for downstream analysis?"
   ]
  },
  {
   "cell_type": "code",
   "execution_count": null,
   "id": "2a68618d",
   "metadata": {},
   "outputs": [],
   "source": [
    "metadata"
   ]
  },
  {
   "cell_type": "code",
   "execution_count": null,
   "id": "71e099ff",
   "metadata": {},
   "outputs": [],
   "source": [
    "metadata2 = metadata.drop(columns=[])"
   ]
  },
  {
   "cell_type": "markdown",
   "id": "885a7c2b",
   "metadata": {},
   "source": [
    "Next we want to merge the metadata with the module eigengene dataframe using the pd.concat function:"
   ]
  },
  {
   "cell_type": "code",
   "execution_count": null,
   "id": "736c53e1",
   "metadata": {},
   "outputs": [],
   "source": [
    "merged_data = "
   ]
  },
  {
   "cell_type": "code",
   "execution_count": null,
   "id": "651e7aa4",
   "metadata": {},
   "outputs": [],
   "source": [
    "merged data"
   ]
  },
  {
   "cell_type": "markdown",
   "id": "e79f73fa",
   "metadata": {},
   "source": [
    "Since you have already learned how to calculate pearson correlation in the previous notebook, calculate Pearson correlation on the merged data."
   ]
  },
  {
   "cell_type": "code",
   "execution_count": null,
   "id": "f81a8c93",
   "metadata": {},
   "outputs": [],
   "source": [
    "correlation_matrix2 = merged_data"
   ]
  },
  {
   "cell_type": "code",
   "execution_count": null,
   "id": "b5536986",
   "metadata": {},
   "outputs": [],
   "source": [
    "correlation_matrix2"
   ]
  },
  {
   "cell_type": "code",
   "execution_count": null,
   "id": "4b3d716a",
   "metadata": {},
   "outputs": [],
   "source": [
    "#The correlation matrix needs to be reformatted into the correct format:\n",
    "correlation_matrix3 = correlation_matrix2.drop(['nCount_RNA', 'nFeature_RNA', 'percent.mt', 'development_stage', \n",
    "                                               'male', 'female', 'CH', 'normal', 'DNMT3A', 'TET2', 'NoMutation'])"
   ]
  },
  {
   "cell_type": "code",
   "execution_count": null,
   "id": "d1fe9a43",
   "metadata": {},
   "outputs": [],
   "source": [
    "correlation_matrix3"
   ]
  },
  {
   "cell_type": "code",
   "execution_count": null,
   "id": "03bf76ee",
   "metadata": {},
   "outputs": [],
   "source": [
    "correlation_matrix3 = correlation_matrix3.drop(correlation_matrix3.columns[4:], axis=1)"
   ]
  },
  {
   "cell_type": "code",
   "execution_count": null,
   "id": "641ffc14",
   "metadata": {},
   "outputs": [],
   "source": [
    "correlation_matrix3"
   ]
  },
  {
   "cell_type": "markdown",
   "id": "69fe3ba1",
   "metadata": {},
   "source": [
    "We now need to calculate the p-values for the correlations on the merged data."
   ]
  },
  {
   "cell_type": "code",
   "execution_count": null,
   "id": "f879897a",
   "metadata": {},
   "outputs": [],
   "source": [
    "# Initialize an empty DataFrame to store p-values\n",
    "module_p_values = pd.DataFrame(index=module_eigengenes.columns, columns=metadata2.columns)\n",
    "\n",
    "# Calculate p-values for correlations between module eigengenes and metadata\n",
    "for module in module_eigengenes.columns:\n",
    "    for metadata_column in metadata2.columns:\n",
    "        # Calculate correlation coefficient and p-value\n",
    "        correlation_coefficient, p_value = pearsonr(module_eigengenes[module], metadata2[metadata_column])\n",
    "        # Store p-value in the DataFrame\n",
    "        module_p_values.loc[module, metadata_column] = p_value\n",
    "\n",
    "print(module_p_values)"
   ]
  },
  {
   "cell_type": "markdown",
   "id": "f1d923b7",
   "metadata": {},
   "source": [
    "We now need to calculate the adjusted p-values.\n",
    "Calculate adjusted p-values using FDR correction.\n",
    "Use the previous example on how to calculate p-values to create a for loop to calculate the adjusted p-values.\n",
    "Please complete the for loop"
   ]
  },
  {
   "cell_type": "code",
   "execution_count": null,
   "id": "a81fb2c1",
   "metadata": {},
   "outputs": [],
   "source": [
    "adjusted_p_values = pd.DataFrame()\n",
    "for column in :\n",
    "    p_values = module_p_values[column].astype(float)\n",
    "    # Perform FDR correction\n",
    "    _, adj_p_values, _, _ = multipletests(, method='fdr_bh')\n",
    "    [column] = adj_p_values\n",
    "\n",
    "print(adjusted_p_values)"
   ]
  },
  {
   "cell_type": "markdown",
   "id": "f5374ae9",
   "metadata": {},
   "source": [
    "# Step 2: Correlation Heatmap"
   ]
  },
  {
   "cell_type": "markdown",
   "id": "4959b070",
   "metadata": {},
   "source": [
    "We want a method to highlight interesting modules.\n",
    "For this purpose we will be creating a heatmap of the correlations and associated adjusted p-values between the modules and the metadata."
   ]
  },
  {
   "cell_type": "code",
   "execution_count": null,
   "id": "d5f6a361",
   "metadata": {},
   "outputs": [],
   "source": [
    "# Function to annotate heatmap with correlation values and p-values\n",
    "def annotate_heatmap_with_p_values(ax, correlation_matrix, p_values, threshold=0.05):\n",
    "    stars = np.empty(p_values.shape, dtype='<U2')\n",
    "    stars[p_values > threshold] = ''\n",
    "    stars[p_values <= threshold] = '*'\n",
    "    for i in range(correlation_matrix.shape[0]):\n",
    "        for j in range(correlation_matrix.shape[1]):\n",
    "            # Format annotation string with correlation value\n",
    "            annotation_corr = f\"{correlation_matrix.iloc[i, j]:.2f}\"\n",
    "            # Format p-value in brackets\n",
    "            annotation_p_value = f\"({p_values.iloc[i, j]:.2f})\"\n",
    "            # Add star for significant p-values\n",
    "            if p_values.iloc[i, j] <= threshold:\n",
    "                annotation_p_value += '*'\n",
    "            # Add annotations\n",
    "            ax.text(j+0.5, i+0.4, annotation_corr, ha='center', va='center', color='black')\n",
    "            ax.text(j+0.5, i+0.6, annotation_p_value, ha='center', va='center', color='black')\n"
   ]
  },
  {
   "cell_type": "markdown",
   "id": "84b1112c",
   "metadata": {},
   "source": [
    "Visualise the correlation matrix as a heatmap with correlation values and p-values\n",
    "You have already seen how to create figures. Fill in this example to create your heatmap"
   ]
  },
  {
   "cell_type": "code",
   "execution_count": null,
   "id": "61a01032",
   "metadata": {},
   "outputs": [],
   "source": [
    "\n",
    "\n",
    "#Insert figure size\n",
    "\n",
    "#Use sns.heatmap function to create the heatmap using the formatted correlation matrix\n",
    "heatmap = sns.heatmap(, annot=False, cmap='coolwarm', vmin=-1, vmax=1)\n",
    "\n",
    "#Insert a title\n",
    "\n",
    "# Annotate heatmap with correlation values and p-values\n",
    "annotate_heatmap_with_p_values(heatmap, correlation_matrix3, adjusted_p_values)\n",
    "\n",
    "#Show the plot"
   ]
  },
  {
   "cell_type": "code",
   "execution_count": null,
   "id": "e86667ac",
   "metadata": {},
   "outputs": [],
   "source": []
  },
  {
   "cell_type": "markdown",
   "id": "666e2a40",
   "metadata": {},
   "source": [
    "External Reading:\n",
    "\n",
    "- PCA: https://www.sartorius.com/en/knowledge/science-snippets/what-is-principal-component-analysis-pca-and-how-it-is-used-507186\n",
    "- Heatmaps: https://www.atlassian.com/data/charts/heatmap-complete-guide#:~:text=What%20is%20a%20heatmap%3F,in%20the%20corresponding%20cell%20range.\n",
    "- False Discovery Rate: https://genomebiology.biomedcentral.com/articles/10.1186/s13059-019-1716-1"
   ]
  },
  {
   "cell_type": "markdown",
   "id": "c3f6d35f",
   "metadata": {},
   "source": [
    "Exercise Questions:\n",
    "1. What is a correlation and why is it used in gene co-expression analysis?\n",
    "2. What is the purpose of calculating module eigengenes in the context of gene expression data analysis?\n",
    "3. Explain the rationale behind using PCA to calculate module eigengenes. How does PCA help in capturing the main variation in the gene expression data within a module?\n",
    "4. Why are adjusted p-values used instead of p-values?\n",
    "5. In the context of merging module eigengenes with clinical metadata, why might it be important to drop certain columns like 'donor_id.1', 'scType_celltype', 'tissue_type', 'cell_type', 'tissue', and 'MUTATION'?\n",
    "6. What is fdr_bh and explain it fully?\n",
    "7. Based on the heatmap, what can you summarise?\n",
    "8. It can be important to check for missing values within the data. How would you do this? Also, if there are missing values, how would you handle them in this context?\n",
    "9. Perform FDR adjustment on the p-values and compare the number of significant correlations before and after correction.\n",
    "10. Plot the expression of eigengenes for a selected module against a specific metadata variable and provide an interpretation of the plot."
   ]
  },
  {
   "cell_type": "markdown",
   "id": "ab370c6c",
   "metadata": {},
   "source": [
    "Answers:\n"
   ]
  }
 ],
 "metadata": {
  "kernelspec": {
   "display_name": "Python 3 (ipykernel)",
   "language": "python",
   "name": "python3"
  },
  "language_info": {
   "codemirror_mode": {
    "name": "ipython",
    "version": 3
   },
   "file_extension": ".py",
   "mimetype": "text/x-python",
   "name": "python",
   "nbconvert_exporter": "python",
   "pygments_lexer": "ipython3",
   "version": "3.8.10"
  }
 },
 "nbformat": 4,
 "nbformat_minor": 5
}
