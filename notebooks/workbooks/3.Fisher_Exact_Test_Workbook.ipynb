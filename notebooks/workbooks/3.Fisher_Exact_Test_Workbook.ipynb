{
 "cells": [
  {
   "cell_type": "markdown",
   "id": "e538dfbf",
   "metadata": {},
   "source": [
    "# Gene Set Enrichment Analysis using Fisher Exact Test"
   ]
  },
  {
   "cell_type": "code",
   "execution_count": null,
   "id": "afe3c3c0",
   "metadata": {},
   "outputs": [],
   "source": [
    "import pandas as pd\n",
    "import numpy as np\n",
    "import matplotlib.pyplot as plt\n",
    "import scipy\n",
    "from scipy.stats import pearsonr\n",
    "from statsmodels.stats.multitest import multipletests\n",
    "import pickle\n",
    "import seaborn as sns\n",
    "from scipy.stats import fisher_exact\n",
    "import gseapy as gp\n",
    "from scipy.stats import hypergeom"
   ]
  },
  {
   "cell_type": "code",
   "execution_count": null,
   "id": "a5aef067",
   "metadata": {},
   "outputs": [],
   "source": []
  },
  {
   "cell_type": "markdown",
   "id": "0e4c5dfe",
   "metadata": {},
   "source": [
    "Read in the required data"
   ]
  },
  {
   "cell_type": "code",
   "execution_count": null,
   "id": "07e00c3b",
   "metadata": {},
   "outputs": [],
   "source": [
    "datExpr = pd.read_csv('/ReCoDE-Gene-Network-Analysis/data/data/Bcell_datExpr_pseudobulk.csv', index_col = 0)"
   ]
  },
  {
   "cell_type": "code",
   "execution_count": null,
   "id": "15eaadde",
   "metadata": {},
   "outputs": [],
   "source": [
    "with open('/ReCoDE-Gene-Network-Analysis/data/other/separated_communities.pkl', 'rb') as file:\n",
    "        separated_communities = pickle.load(file)"
   ]
  },
  {
   "cell_type": "code",
   "execution_count": null,
   "id": "dcdf8ce4",
   "metadata": {},
   "outputs": [],
   "source": [
    "# Convert each module in separated_communities to a set\n",
    "modules = {f'Module_{i+1}': set(community) for i, community in enumerate(separated_communities)}"
   ]
  },
  {
   "cell_type": "code",
   "execution_count": null,
   "id": "f96cb195",
   "metadata": {},
   "outputs": [],
   "source": [
    "modules"
   ]
  },
  {
   "cell_type": "markdown",
   "id": "386d566d",
   "metadata": {},
   "source": [
    "# Step 1: Load in Gene-Sets"
   ]
  },
  {
   "cell_type": "markdown",
   "id": "349a054f",
   "metadata": {},
   "source": [
    "This exercise will show how to use GMT files that contain gene-set information downloaded from the Human MSigDB Collections database."
   ]
  },
  {
   "cell_type": "code",
   "execution_count": null,
   "id": "ce723a46",
   "metadata": {},
   "outputs": [],
   "source": [
    "#Load the GMT file\n",
    "def read_gmt_file(file_path):\n",
    "    gene_sets = {}\n",
    "    with open(file_path, 'r') as file:\n",
    "        for line in file:\n",
    "            parts = line.strip().split('\\t')\n",
    "            gene_set_name = parts[0]\n",
    "            genes = parts[2:]\n",
    "            gene_sets[gene_set_name] = set(genes)\n",
    "    return gene_sets"
   ]
  },
  {
   "cell_type": "code",
   "execution_count": null,
   "id": "b2b22a64",
   "metadata": {},
   "outputs": [],
   "source": [
    "gmt_file = '/ReCoDE-Gene-Network-Analysis/data/other/h.all.v2023.2.Hs.symbols.gmt'\n",
    "\n",
    "#Read the file in using the read_gmt_file function\n",
    "gene_sets = read_gmt_file(gmt_file)"
   ]
  },
  {
   "cell_type": "code",
   "execution_count": null,
   "id": "d8db0df4",
   "metadata": {},
   "outputs": [],
   "source": [
    "gene_sets"
   ]
  },
  {
   "cell_type": "markdown",
   "id": "157e991b",
   "metadata": {},
   "source": [
    "# Step 2: Calculate Fisher's Exact Test for Enrichment"
   ]
  },
  {
   "cell_type": "code",
   "execution_count": null,
   "id": "054bdd9a",
   "metadata": {},
   "outputs": [],
   "source": [
    "# Container for results\n",
    "results = []\n",
    "\n",
    "# Iterate over each module\n",
    "for module_name, module_genes in modules.items():\n",
    "    module_genes_in_expr = module_genes.intersection(datExpr.columns)\n",
    "    \n",
    "    # Check if module_genes_in_expr is empty to avoid issues\n",
    "    if len(module_genes_in_expr) == 0:\n",
    "        continue\n",
    "\n",
    "    # Iterate over each gene set in the GMT file\n",
    "    for gene_set_name, gene_set_genes in gene_sets.items():\n",
    "        overlap_genes = module_genes_in_expr.intersection(gene_set_genes)\n",
    "        non_overlap_module_genes = module_genes_in_expr.difference(gene_set_genes)\n",
    "        non_overlap_gene_set_genes = gene_set_genes.difference(module_genes_in_expr)\n",
    "\n",
    "        # Calculate the contingency table\n",
    "        a = len(overlap_genes)\n",
    "        b = len(non_overlap_module_genes)\n",
    "        c = len(non_overlap_gene_set_genes)\n",
    "        d = len(set(datExpr.columns)) - (a + b + c)  # Adjust d to only consider genes in datExpr\n",
    "        \n",
    "        # Ensure all values in the contingency table are non-negative\n",
    "        if a < 0 or b < 0 or c < 0 or d < 0:\n",
    "            continue\n",
    "\n",
    "        # Perform Fisher's exact test\n",
    "        odds_ratio, p_value = fisher_exact([[a, b], [c, d]], alternative='two-sided')\n",
    "        \n",
    "        results.append({\n",
    "            'Module': module_name,\n",
    "            'Gene Set': gene_set_name,\n",
    "            'Overlap Count': a,\n",
    "            'Odds Ratio': odds_ratio,\n",
    "            'P-value': p_value\n",
    "        })\n"
   ]
  },
  {
   "cell_type": "code",
   "execution_count": null,
   "id": "77a1ede0",
   "metadata": {},
   "outputs": [],
   "source": [
    "# Convert results to DataFrame for further analysis\n",
    "results_df = \n",
    "\n",
    "# Adjust p-values for multiple testing using the multipletests function\n",
    "results_df['Adjusted P-value'] = \n",
    "\n",
    "# Display results\n",
    "print(results_df)"
   ]
  },
  {
   "cell_type": "markdown",
   "id": "86241fcf",
   "metadata": {},
   "source": [
    "Let's focus on one module for the purpose of the enrichment analysis:"
   ]
  },
  {
   "cell_type": "code",
   "execution_count": null,
   "id": "c7369866",
   "metadata": {},
   "outputs": [],
   "source": [
    "# Filter for Module 1 and sort by overlap count.\n",
    "module_1_results = \n",
    "\n",
    "#Sort the module results by overlap count.\n",
    "top_10_enriched_gene_sets = module_1_results.sort_values(by='Overlap Count', ascending=False).head(10)\n",
    "\n",
    "print(top_10_enriched_gene_sets)"
   ]
  },
  {
   "cell_type": "code",
   "execution_count": null,
   "id": "c56a0e70",
   "metadata": {},
   "outputs": [],
   "source": [
    "#Extract data for plotting (top 10 pathways with highest overlap count)\n",
    "top_10_enriched_gene_sets\n",
    "y_labels = top_10_enriched_gene_sets['Gene Set']\n",
    "x = top_10_enriched_gene_sets['Odds Ratio']\n",
    "sizes = top_10_enriched_gene_sets['Overlap Count'] * 20\n",
    "p_values = top_10_enriched_gene_sets['P-value']\n",
    "adjusted_p_values = top_10_enriched_gene_sets['Adjusted P-value']"
   ]
  },
  {
   "cell_type": "markdown",
   "id": "219b2082",
   "metadata": {},
   "source": [
    "# Step 3: Visualise Enriched Pathways"
   ]
  },
  {
   "cell_type": "code",
   "execution_count": null,
   "id": "922ccf32",
   "metadata": {},
   "outputs": [],
   "source": [
    "# Plot the scatter plot for the top 10 pathways\n",
    "plt.figure(figsize=(12, 8))\n",
    "\n",
    "# Main scatter plot\n",
    "sc = plt.scatter(x, range(10), s=sizes, c=-adjusted_p_values, cmap='viridis', alpha=0.7)\n",
    "\n",
    "# Set labels and title\n",
    "plt.yticks(range(10), y_labels)  # Set y-axis labels to pathway names\n",
    "plt.xlabel('Odds Ratio')\n",
    "plt.ylabel('Pathway')\n",
    "plt.title('Top 10 Enriched Gene Sets')\n",
    "\n",
    "# Add a legend for dot sizes (overlap count) outside the plot\n",
    "handles, labels = sc.legend_elements(prop=\"sizes\", alpha=0.6)\n",
    "legend_labels = [f'Overlap Count: {int(float(label.split(\"{\")[1].split(\"}\")[0]) // 20)}' for label in labels]\n",
    "legend = plt.legend(handles, legend_labels, loc=\"center left\", bbox_to_anchor=(1.3, 0.5), title=\"Overlap\", frameon=False)\n",
    "\n",
    "# Add colorbar\n",
    "cbar = plt.colorbar(sc, shrink=0.2)  # Shrink colorbar size\n",
    "cbar.ax.xaxis.set_label_position('top')\n",
    "cbar.ax.set_title('Adj.pval', loc='left') \n",
    "\n",
    "# Adjust layout to prevent overlap between legends\n",
    "plt.subplots_adjust(right=0.75)  # Adjust the right margin to make space for the legends\n",
    "\n",
    "# Show the plot\n",
    "plt.grid(True)\n",
    "plt.tight_layout()  # Adjust layout to prevent clipping of labels\n",
    "plt.show()"
   ]
  },
  {
   "cell_type": "markdown",
   "id": "706b9213",
   "metadata": {},
   "source": [
    "# KEGG Pathway Enrichment Analysis using Gseapy"
   ]
  },
  {
   "cell_type": "code",
   "execution_count": null,
   "id": "e3bff337",
   "metadata": {},
   "outputs": [],
   "source": [
    "kegg = gp.get_library(name='KEGG_2016', organism='Human')"
   ]
  },
  {
   "cell_type": "code",
   "execution_count": null,
   "id": "dd7a9f05",
   "metadata": {},
   "outputs": [],
   "source": [
    "kegg"
   ]
  },
  {
   "cell_type": "markdown",
   "id": "75e8c2c3",
   "metadata": {},
   "source": [
    "Try out libraries other than KEGG too, such as GO_Molecular_Function_2018."
   ]
  },
  {
   "cell_type": "code",
   "execution_count": null,
   "id": "cc99c995",
   "metadata": {},
   "outputs": [],
   "source": [
    "gene_sets"
   ]
  },
  {
   "cell_type": "markdown",
   "id": "ec0735ce",
   "metadata": {},
   "source": [
    "The kegg results need to be reformatted into a dictionary for enrichment analysis:"
   ]
  },
  {
   "cell_type": "code",
   "execution_count": null,
   "id": "94070140",
   "metadata": {},
   "outputs": [],
   "source": [
    "# Initialize an empty dictionary to store pathway name: gene names pairs\n",
    "pathway_dict = {}\n",
    "\n",
    "# Iterate through the pathway_gene_dict and populate the pathway_dict\n",
    "for pathway_name, gene_list in kegg.items():\n",
    "    # Convert gene list to a set to remove duplicates\n",
    "    gene_set = set(gene_list)\n",
    "    # Assign gene set to pathway name in pathway_dict\n",
    "    pathway_dict[pathway_name] = gene_set\n",
    "\n",
    "# Display the resulting dictionary\n",
    "print(pathway_dict)"
   ]
  },
  {
   "cell_type": "markdown",
   "id": "40d2bd01",
   "metadata": {},
   "source": [
    "Create your own results dataframe and carry out the Fisher Exact Test on the KEGG results.\n",
    "If you get stuck, you can use the previous example as a template."
   ]
  },
  {
   "cell_type": "code",
   "execution_count": null,
   "id": "60027142",
   "metadata": {},
   "outputs": [],
   "source": [
    "#Container for results\n",
    "\n"
   ]
  },
  {
   "cell_type": "code",
   "execution_count": null,
   "id": "f6d04660",
   "metadata": {},
   "outputs": [],
   "source": [
    "# Convert results to DataFrame for further analysis\n",
    "results_df = \n",
    "\n",
    "# Adjust p-values for multiple testing\n",
    "results_df['Adjusted P-value'] =\n",
    "\n",
    "# Display results\n",
    "print(results_df)"
   ]
  },
  {
   "cell_type": "code",
   "execution_count": null,
   "id": "ce912c52",
   "metadata": {},
   "outputs": [],
   "source": [
    "# Filter for Module 1 and sort by overlap count\n",
    "module_1_results = \n",
    "top_10_enriched_gene_sets = \n",
    "\n",
    "print(top_10_enriched_gene_sets)"
   ]
  },
  {
   "cell_type": "code",
   "execution_count": null,
   "id": "78ef1010",
   "metadata": {},
   "outputs": [],
   "source": [
    "# Extract data for plotting (top 10 pathways with highest overlap count)\n",
    "top_10_enriched_gene_sets\n",
    "y_labels =\n",
    "x = \n",
    "sizes = \n",
    "p_values =\n",
    "adjusted_p_values = "
   ]
  },
  {
   "cell_type": "markdown",
   "id": "8a16e49b",
   "metadata": {},
   "source": [
    "# Visualisation of KEGG Enrichment"
   ]
  },
  {
   "cell_type": "code",
   "execution_count": null,
   "id": "8321b9be",
   "metadata": {},
   "outputs": [],
   "source": [
    "# Plot the scatter plot for the top 10 pathways\n"
   ]
  },
  {
   "cell_type": "code",
   "execution_count": null,
   "id": "8206deb4",
   "metadata": {},
   "outputs": [],
   "source": []
  },
  {
   "cell_type": "markdown",
   "id": "2ad8e7dc",
   "metadata": {},
   "source": [
    "External Reading:\n",
    "\n",
    "- GSEA website: https://www.gsea-msigdb.org/gsea/index.jsp\n",
    "- GSEA paper: https://www.pnas.org/doi/10.1073/pnas.0506580102\n",
    "- Fisher exact test: https://www.pathwaycommons.org/guide/primers/statistics/fishers_exact_test/\n",
    "- Odd's Ratio: https://www.ncbi.nlm.nih.gov/books/NBK431098/\n",
    "- Alternative GSEA package: https://maayanlab.cloud/Enrichr/"
   ]
  },
  {
   "cell_type": "markdown",
   "id": "c860c682",
   "metadata": {},
   "source": [
    "Exercise Questions:\n",
    "1. What is gene set enrichment analysis?\n",
    "2. What is Fisher Exact Test?\n",
    "3. What is the contingency table in Fisher's Exact Test, and how is it constructed for GSEA?\n",
    "4. What does the odds ratio represent in the context of Fisher's Exact Test?\n",
    "5. What are some potential limitations of using Fisher's Exact Test for enrichment analysis?\n",
    "6. What are some alternatives to Fisher's Exact Test for enrichment analysis?\n",
    "7. How does GSEA differ from use of Fisher Exact Test?\n",
    "8. Enhance the visualisation of enrichment results. Plot a scatter plot for the top 10 enriched gene sets for Module 2. Customise the plot with different color maps and point markers. Annotate the top 3 most significant gene sets on the scatter plot with their names and p-values.\n",
    "9. Think of a different way to visualise the enrichment results instead and plot them. For example, plot a heatmap of overlap counts across modules and gene sets.\n",
    "10. Carry out a correlation analysis of enrichment scores across modules. Investigate the correlation between enrichment scores across different modules to understand how similarly different gene sets are enriched across various modules."
   ]
  },
  {
   "cell_type": "markdown",
   "id": "c3f96b35",
   "metadata": {},
   "source": [
    "Answers:\n"
   ]
  }
 ],
 "metadata": {
  "kernelspec": {
   "display_name": "Python 3 (ipykernel)",
   "language": "python",
   "name": "python3"
  },
  "language_info": {
   "codemirror_mode": {
    "name": "ipython",
    "version": 3
   },
   "file_extension": ".py",
   "mimetype": "text/x-python",
   "name": "python",
   "nbconvert_exporter": "python",
   "pygments_lexer": "ipython3",
   "version": "3.8.10"
  }
 },
 "nbformat": 4,
 "nbformat_minor": 5
}
